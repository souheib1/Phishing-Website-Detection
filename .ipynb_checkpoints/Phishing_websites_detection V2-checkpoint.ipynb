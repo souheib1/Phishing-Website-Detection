{
 "cells": [
  {
   "cell_type": "markdown",
   "id": "5lnWf8VWaZsy",
   "metadata": {
    "id": "5lnWf8VWaZsy"
   },
   "source": [
    "# Part IV Modelling and Prediction of Phishing websites"
   ]
  },
  {
   "cell_type": "markdown",
   "id": "rg-vOPugb7ch",
   "metadata": {
    "id": "rg-vOPugb7ch"
   },
   "source": [
    "## IV.1 Data preparation:"
   ]
  },
  {
   "cell_type": "markdown",
   "id": "8iiYDiGYafH8",
   "metadata": {
    "id": "8iiYDiGYafH8"
   },
   "source": [
    "**Load all the data after cleaning**"
   ]
  },
  {
   "cell_type": "code",
   "execution_count": 1,
   "id": "e2a4a33c",
   "metadata": {
    "colab": {
     "base_uri": "https://localhost:8080/",
     "height": 287
    },
    "id": "e2a4a33c",
    "outputId": "e6a0a71f-4b48-4a7d-9290-0196cfd02f69"
   },
   "outputs": [
    {
     "data": {
      "text/html": [
       "<div>\n",
       "<style scoped>\n",
       "    .dataframe tbody tr th:only-of-type {\n",
       "        vertical-align: middle;\n",
       "    }\n",
       "\n",
       "    .dataframe tbody tr th {\n",
       "        vertical-align: top;\n",
       "    }\n",
       "\n",
       "    .dataframe thead th {\n",
       "        text-align: right;\n",
       "    }\n",
       "</style>\n",
       "<table border=\"1\" class=\"dataframe\">\n",
       "  <thead>\n",
       "    <tr style=\"text-align: right;\">\n",
       "      <th></th>\n",
       "      <th>NumberRedirects</th>\n",
       "      <th>checkWHOIS_exists</th>\n",
       "      <th>isinAlexa</th>\n",
       "      <th>NumbLinkToDomain</th>\n",
       "      <th>indexbyGoogle</th>\n",
       "      <th>Domain</th>\n",
       "      <th>Have_@</th>\n",
       "      <th>URL_Length</th>\n",
       "      <th>Domain_Length</th>\n",
       "      <th>occurence_tirets</th>\n",
       "      <th>Redirection</th>\n",
       "      <th>Number_%</th>\n",
       "      <th>TinyURL</th>\n",
       "      <th>iFrame</th>\n",
       "      <th>MouseOver</th>\n",
       "      <th>label</th>\n",
       "    </tr>\n",
       "  </thead>\n",
       "  <tbody>\n",
       "    <tr>\n",
       "      <th>0</th>\n",
       "      <td>0</td>\n",
       "      <td>141</td>\n",
       "      <td>0</td>\n",
       "      <td>0</td>\n",
       "      <td>1</td>\n",
       "      <td>thehistoryofenglish.com</td>\n",
       "      <td>0.0</td>\n",
       "      <td>35.0</td>\n",
       "      <td>23.0</td>\n",
       "      <td>1.0</td>\n",
       "      <td>6.0</td>\n",
       "      <td>1.0</td>\n",
       "      <td>0.0</td>\n",
       "      <td>1</td>\n",
       "      <td>1</td>\n",
       "      <td>0.0</td>\n",
       "    </tr>\n",
       "    <tr>\n",
       "      <th>1</th>\n",
       "      <td>0</td>\n",
       "      <td>195</td>\n",
       "      <td>0</td>\n",
       "      <td>0</td>\n",
       "      <td>1</td>\n",
       "      <td>creativelab.org.ua</td>\n",
       "      <td>0.0</td>\n",
       "      <td>30.0</td>\n",
       "      <td>18.0</td>\n",
       "      <td>1.0</td>\n",
       "      <td>6.0</td>\n",
       "      <td>1.0</td>\n",
       "      <td>0.0</td>\n",
       "      <td>1</td>\n",
       "      <td>0</td>\n",
       "      <td>0.0</td>\n",
       "    </tr>\n",
       "    <tr>\n",
       "      <th>2</th>\n",
       "      <td>1</td>\n",
       "      <td>66</td>\n",
       "      <td>0</td>\n",
       "      <td>0</td>\n",
       "      <td>1</td>\n",
       "      <td>otelika.com</td>\n",
       "      <td>0.0</td>\n",
       "      <td>23.0</td>\n",
       "      <td>11.0</td>\n",
       "      <td>1.0</td>\n",
       "      <td>6.0</td>\n",
       "      <td>1.0</td>\n",
       "      <td>0.0</td>\n",
       "      <td>0</td>\n",
       "      <td>1</td>\n",
       "      <td>0.0</td>\n",
       "    </tr>\n",
       "    <tr>\n",
       "      <th>3</th>\n",
       "      <td>0</td>\n",
       "      <td>0</td>\n",
       "      <td>0</td>\n",
       "      <td>0</td>\n",
       "      <td>1</td>\n",
       "      <td>seeweg.de</td>\n",
       "      <td>0.0</td>\n",
       "      <td>21.0</td>\n",
       "      <td>9.0</td>\n",
       "      <td>1.0</td>\n",
       "      <td>6.0</td>\n",
       "      <td>1.0</td>\n",
       "      <td>0.0</td>\n",
       "      <td>0</td>\n",
       "      <td>1</td>\n",
       "      <td>0.0</td>\n",
       "    </tr>\n",
       "    <tr>\n",
       "      <th>4</th>\n",
       "      <td>0</td>\n",
       "      <td>11</td>\n",
       "      <td>0</td>\n",
       "      <td>0</td>\n",
       "      <td>1</td>\n",
       "      <td>au-paycccy.aseaoaameoy.uqfj.top</td>\n",
       "      <td>0.0</td>\n",
       "      <td>45.0</td>\n",
       "      <td>31.0</td>\n",
       "      <td>2.0</td>\n",
       "      <td>5.0</td>\n",
       "      <td>1.0</td>\n",
       "      <td>0.0</td>\n",
       "      <td>1</td>\n",
       "      <td>0</td>\n",
       "      <td>1.0</td>\n",
       "    </tr>\n",
       "  </tbody>\n",
       "</table>\n",
       "</div>"
      ],
      "text/plain": [
       "   NumberRedirects  checkWHOIS_exists  isinAlexa  NumbLinkToDomain  \\\n",
       "0                0                141          0                 0   \n",
       "1                0                195          0                 0   \n",
       "2                1                 66          0                 0   \n",
       "3                0                  0          0                 0   \n",
       "4                0                 11          0                 0   \n",
       "\n",
       "   indexbyGoogle                           Domain  Have_@  URL_Length  \\\n",
       "0              1          thehistoryofenglish.com     0.0        35.0   \n",
       "1              1               creativelab.org.ua     0.0        30.0   \n",
       "2              1                      otelika.com     0.0        23.0   \n",
       "3              1                        seeweg.de     0.0        21.0   \n",
       "4              1  au-paycccy.aseaoaameoy.uqfj.top     0.0        45.0   \n",
       "\n",
       "   Domain_Length  occurence_tirets  Redirection  Number_%  TinyURL  iFrame  \\\n",
       "0           23.0               1.0          6.0       1.0      0.0       1   \n",
       "1           18.0               1.0          6.0       1.0      0.0       1   \n",
       "2           11.0               1.0          6.0       1.0      0.0       0   \n",
       "3            9.0               1.0          6.0       1.0      0.0       0   \n",
       "4           31.0               2.0          5.0       1.0      0.0       1   \n",
       "\n",
       "   MouseOver  label  \n",
       "0          1    0.0  \n",
       "1          0    0.0  \n",
       "2          1    0.0  \n",
       "3          1    0.0  \n",
       "4          0    1.0  "
      ]
     },
     "execution_count": 1,
     "metadata": {},
     "output_type": "execute_result"
    }
   ],
   "source": [
    "#Loading the data\n",
    "import pandas as pd\n",
    "import numpy as np\n",
    "import seaborn as sns\n",
    "import sklearn \n",
    "import matplotlib.pyplot as plt\n",
    "from sklearn.metrics import RocCurveDisplay\n",
    "df = pd.read_csv('database_websites.csv')\n",
    "df.head()"
   ]
  },
  {
   "cell_type": "markdown",
   "id": "O3CdrXVJZ2PQ",
   "metadata": {
    "id": "O3CdrXVJZ2PQ"
   },
   "source": [
    "**Number of links, Number of labels**"
   ]
  },
  {
   "cell_type": "code",
   "execution_count": 2,
   "id": "N2piMxtGWrQm",
   "metadata": {
    "colab": {
     "base_uri": "https://localhost:8080/"
    },
    "id": "N2piMxtGWrQm",
    "outputId": "cd572cae-fb52-487c-e798-902801cbd002"
   },
   "outputs": [
    {
     "data": {
      "text/plain": [
       "(6000, 16)"
      ]
     },
     "execution_count": 2,
     "metadata": {},
     "output_type": "execute_result"
    }
   ],
   "source": [
    "df.shape"
   ]
  },
  {
   "cell_type": "markdown",
   "id": "Vc7h-YHXZ-xt",
   "metadata": {
    "id": "Vc7h-YHXZ-xt"
   },
   "source": [
    "**Replace all Empty values with 0** ( just to make sure,  normally this cell doesn't have to be executed if the data was generated from the previous code)"
   ]
  },
  {
   "cell_type": "code",
   "execution_count": 3,
   "id": "b147c349",
   "metadata": {
    "id": "b147c349"
   },
   "outputs": [],
   "source": [
    "columns=df.columns\n",
    "df = df.fillna(value=0.0)\n"
   ]
  },
  {
   "cell_type": "markdown",
   "id": "d8OjaBB4aOed",
   "metadata": {
    "id": "d8OjaBB4aOed"
   },
   "source": [
    "**Drop all the string labels and the labels that will not be useful for classificaton**"
   ]
  },
  {
   "cell_type": "code",
   "execution_count": 4,
   "id": "0361e2fb",
   "metadata": {
    "id": "0361e2fb"
   },
   "outputs": [],
   "source": [
    "dfsa = df.drop(['Domain'], axis = 1).copy() \n",
    "dfsa = dfsa.drop(['Redirection'], axis = 1).copy()"
   ]
  },
  {
   "cell_type": "markdown",
   "id": "CDk_Fxh4akuD",
   "metadata": {
    "id": "CDk_Fxh4akuD"
   },
   "source": [
    "**Divide the database in X and y values where:**\n",
    "- **y** is the label of a url link representing whether it is a phishing or legitimate website, which is a value that will be predicted for new websites.\n",
    "- **X** which contains all the data of the features for all URLs without the labels to be predicted."
   ]
  },
  {
   "cell_type": "code",
   "execution_count": 5,
   "id": "f5ab7b9d",
   "metadata": {
    "id": "f5ab7b9d"
   },
   "outputs": [],
   "source": [
    "y = dfsa['label']  #target variable\n",
    "X = dfsa.drop('label',axis=1)"
   ]
  },
  {
   "cell_type": "markdown",
   "id": "d_5-41Vvbo4z",
   "metadata": {
    "id": "d_5-41Vvbo4z"
   },
   "source": [
    "**Divide the database into X_train, X_test, y_train and y_test for prediction**"
   ]
  },
  {
   "cell_type": "code",
   "execution_count": 6,
   "id": "fbf13820",
   "metadata": {
    "colab": {
     "base_uri": "https://localhost:8080/"
    },
    "id": "fbf13820",
    "outputId": "29d2ba71-a72d-49a5-9761-6068dc290a9f"
   },
   "outputs": [
    {
     "data": {
      "text/plain": [
       "((4800, 13), (1200, 13))"
      ]
     },
     "execution_count": 6,
     "metadata": {},
     "output_type": "execute_result"
    }
   ],
   "source": [
    "from sklearn.model_selection import train_test_split\n",
    "from sklearn.metrics import accuracy_score\n",
    "X_train, X_test, y_train, y_test = train_test_split(X, y, test_size = 0.2, random_state = 12)  #test-size 20%\n",
    "X_train.shape, X_test.shape"
   ]
  },
  {
   "cell_type": "markdown",
   "id": "-SYvllc4elOR",
   "metadata": {
    "id": "-SYvllc4elOR"
   },
   "source": [
    "**Function: Report best scores for hyperparameters selection** "
   ]
  },
  {
   "cell_type": "code",
   "execution_count": 7,
   "id": "BMEloEamIJJK",
   "metadata": {
    "id": "BMEloEamIJJK"
   },
   "outputs": [],
   "source": [
    "def report_best_scores(results, n_top=3):\n",
    "    for i in range(1, n_top + 1):\n",
    "        candidates = np.flatnonzero(results['rank_test_score'] == i)\n",
    "        for candidate in candidates:\n",
    "            print(\"Model with rank: {0}\".format(i))\n",
    "            print(\"Mean validation score: {0:.3f} (std: {1:.3f})\".format(\n",
    "                  results['mean_test_score'][candidate],\n",
    "                  results['std_test_score'][candidate]))\n",
    "            print(\"Parameters: {0}\".format(results['params'][candidate]))\n",
    "            print(\"\")"
   ]
  },
  {
   "cell_type": "markdown",
   "id": "eBjMBQMwb_2R",
   "metadata": {
    "id": "eBjMBQMwb_2R"
   },
   "source": [
    "## IV.2 Classification Models:"
   ]
  },
  {
   "cell_type": "markdown",
   "id": "1178f915",
   "metadata": {
    "id": "1178f915"
   },
   "source": [
    "### **IV.2.1 Decision Tree**"
   ]
  },
  {
   "cell_type": "code",
   "execution_count": 8,
   "id": "3f275df6",
   "metadata": {
    "id": "3f275df6"
   },
   "outputs": [],
   "source": [
    "# Decision Tree model \n",
    "from sklearn.tree import DecisionTreeClassifier\n",
    "\n",
    "# instantiate the model \n",
    "tree = DecisionTreeClassifier(max_depth = 5)\n",
    "# fit the model \n",
    "tree.fit(X_train, y_train)\n",
    "\n",
    "y_test_tree = tree.predict(X_test)\n",
    "y_train_tree = tree.predict(X_train)\n",
    "y_probas_tree = tree.predict_proba(X_test)"
   ]
  },
  {
   "cell_type": "code",
   "execution_count": 9,
   "id": "0726d1b0",
   "metadata": {
    "colab": {
     "base_uri": "https://localhost:8080/"
    },
    "id": "0726d1b0",
    "outputId": "79a65025-d676-4960-ccb3-bbb5b395af23"
   },
   "outputs": [
    {
     "name": "stdout",
     "output_type": "stream",
     "text": [
      "Decision Tree: Accuracy on training Data: 0.915\n",
      "Decision Tree: Accuracy on test Data: 0.908\n"
     ]
    }
   ],
   "source": [
    "acc_train_tree = accuracy_score(y_train,y_train_tree)\n",
    "acc_test_tree = accuracy_score(y_test,y_test_tree)\n",
    "\n",
    "print(\"Decision Tree: Accuracy on training Data:\", round(acc_train_tree,3))\n",
    "print(\"Decision Tree: Accuracy on test Data:\" ,round(acc_test_tree,3))"
   ]
  },
  {
   "cell_type": "markdown",
   "id": "PW8pMOmvAvYy",
   "metadata": {
    "id": "PW8pMOmvAvYy"
   },
   "source": [
    "**IV.2.1.2 Feature importance**"
   ]
  },
  {
   "cell_type": "code",
   "execution_count": 10,
   "id": "9f3b6b9a",
   "metadata": {
    "colab": {
     "base_uri": "https://localhost:8080/",
     "height": 442
    },
    "id": "9f3b6b9a",
    "outputId": "d2fed33c-8aca-4d51-83fc-ba9bb9efeccb"
   },
   "outputs": [
    {
     "data": {
      "image/png": "[encoded data removed]",
      "text/plain": [
       "<Figure size 648x504 with 1 Axes>"
      ]
     },
     "metadata": {
      "needs_background": "light"
     },
     "output_type": "display_data"
    }
   ],
   "source": [
    "#checking the feature improtance in the model\n",
    "plt.figure(figsize=(9,7))\n",
    "n_features = X_train.shape[1]\n",
    "plt.barh(range(n_features), tree.feature_importances_, align='center')\n",
    "plt.yticks(np.arange(n_features), X_train.columns)\n",
    "plt.xlabel(\"Feature importance\")\n",
    "plt.ylabel(\"Feature\")\n",
    "\n",
    "plt.show()"
   ]
  },
  {
   "cell_type": "markdown",
   "id": "yRSVPk6m1419",
   "metadata": {
    "id": "yRSVPk6m1419"
   },
   "source": [
    "**IV.2.1.3 Parameters tuning**"
   ]
  },
  {
   "cell_type": "code",
   "execution_count": 11,
   "id": "UNJcN4oJ0qvm",
   "metadata": {
    "colab": {
     "base_uri": "https://localhost:8080/",
     "height": 282
    },
    "id": "UNJcN4oJ0qvm",
    "outputId": "80841ded-b910-41f8-a857-5d227918d97e"
   },
   "outputs": [
    {
     "data": {
      "text/plain": [
       "[<matplotlib.lines.Line2D at 0x28783741888>]"
      ]
     },
     "execution_count": 11,
     "metadata": {},
     "output_type": "execute_result"
    },
    {
     "data": {
      "image/png": "[encoded data removed]",
      "text/plain": [
       "<Figure size 432x288 with 1 Axes>"
      ]
     },
     "metadata": {
      "needs_background": "light"
     },
     "output_type": "display_data"
    }
   ],
   "source": [
    "acc_valid_array = []\n",
    "deapth_list=[]\n",
    "for deapth in range(1,31):\n",
    "  tree = DecisionTreeClassifier(max_depth = deapth)\n",
    "  tree.fit(X_train, y_train)\n",
    "  y_test_tree = tree.predict(X_test)\n",
    "  acc_test_tree = accuracy_score(y_test,y_test_tree)\n",
    "  acc_valid_array.append(round(acc_test_tree,3))\n",
    "  deapth_list.append(deapth)\n",
    "plt.plot(deapth_list,acc_valid_array)\n"
   ]
  },
  {
   "cell_type": "code",
   "execution_count": 12,
   "id": "Pyo-siL3H1qm",
   "metadata": {
    "colab": {
     "base_uri": "https://localhost:8080/"
    },
    "id": "Pyo-siL3H1qm",
    "outputId": "4a2aeefd-c83d-42f7-89fa-47c9f5ff35c9"
   },
   "outputs": [
    {
     "name": "stderr",
     "output_type": "stream",
     "text": [
      "C:\\Users\\souhm\\anaconda3\\lib\\site-packages\\sklearn\\model_selection\\_search.py:296: UserWarning: The total space of parameters 40 is smaller than n_iter=100. Running 40 iterations. For exhaustive searches, use GridSearchCV.\n",
      "  UserWarning,\n"
     ]
    },
    {
     "name": "stdout",
     "output_type": "stream",
     "text": [
      "Fitting 3 folds for each of 40 candidates, totalling 120 fits\n",
      "Model with rank: 1\n",
      "Mean validation score: 0.932 (std: 0.009)\n",
      "Parameters: {'min_samples_leaf': 2, 'max_depth': 7, 'criterion': 'gini'}\n",
      "\n"
     ]
    }
   ],
   "source": [
    "from scipy.stats import uniform, randint\n",
    "from sklearn.model_selection import RandomizedSearchCV\n",
    "tree = DecisionTreeClassifier()\n",
    "tree_param = {\n",
    "    'criterion': ['entropy', 'gini'],\n",
    "    'max_depth': range(3,8),\n",
    "    'min_samples_leaf': range(1,5)\n",
    "    }\n",
    "\n",
    "\n",
    "search = RandomizedSearchCV(tree, param_distributions=tree_param, random_state=42, n_iter=100, cv=3, verbose=1, n_jobs=1, return_train_score=True)\n",
    "search.fit(X, y)\n",
    "report_best_scores(search.cv_results_, 1)"
   ]
  },
  {
   "cell_type": "markdown",
   "id": "yzP69wm0KbrH",
   "metadata": {
    "id": "yzP69wm0KbrH"
   },
   "source": [
    "Best hyperparameters according to the randomized search : \n",
    "* min_samples_leaf = 1\n",
    "* max_depth = 7\n",
    "* criterion='gini'\n",
    "* **Validation score = 0.919**"
   ]
  },
  {
   "cell_type": "markdown",
   "id": "fc57e085",
   "metadata": {
    "id": "fc57e085"
   },
   "source": [
    "### **IV.2.2 Random Forest**"
   ]
  },
  {
   "cell_type": "markdown",
   "id": "wLZTi0bSK_M_",
   "metadata": {
    "id": "wLZTi0bSK_M_"
   },
   "source": [
    "**IV.2.2.1 Model training**"
   ]
  },
  {
   "cell_type": "code",
   "execution_count": 13,
   "id": "20ab1f58",
   "metadata": {
    "colab": {
     "base_uri": "https://localhost:8080/"
    },
    "id": "20ab1f58",
    "outputId": "499f7dea-a562-43ef-911d-43f6a5297931"
   },
   "outputs": [
    {
     "data": {
      "text/plain": [
       "RandomForestClassifier(max_depth=5)"
      ]
     },
     "execution_count": 13,
     "metadata": {},
     "output_type": "execute_result"
    }
   ],
   "source": [
    "# Random Forest model\n",
    "from sklearn.ensemble import RandomForestClassifier\n",
    "from sklearn.metrics import accuracy_score\n",
    "\n",
    "# instantiate the model\n",
    "forest = RandomForestClassifier(max_depth=5)\n",
    "\n",
    "# fit the model \n",
    "forest.fit(X_train, y_train)"
   ]
  },
  {
   "cell_type": "code",
   "execution_count": 14,
   "id": "b1509a4b",
   "metadata": {
    "id": "b1509a4b"
   },
   "outputs": [],
   "source": [
    "y_test_forest = forest.predict(X_test)\n",
    "y_train_forest = forest.predict(X_train)\n",
    "y_probas_forest = forest.predict_proba(X_test)"
   ]
  },
  {
   "cell_type": "code",
   "execution_count": 15,
   "id": "4f925bae",
   "metadata": {
    "colab": {
     "base_uri": "https://localhost:8080/"
    },
    "id": "4f925bae",
    "outputId": "0196e1d3-a3c2-45a5-e2bd-9e9396d8c5bd"
   },
   "outputs": [
    {
     "name": "stdout",
     "output_type": "stream",
     "text": [
      "Random forest: Accuracy on training Data: 0.906\n",
      "Random forest: Accuracy on test Data: 0.902\n"
     ]
    }
   ],
   "source": [
    "acc_train_forest = accuracy_score(y_train,y_train_forest)\n",
    "acc_test_forest = accuracy_score(y_test,y_test_forest)\n",
    "\n",
    "print(\"Random forest: Accuracy on training Data: {:.3f}\".format(acc_train_forest))\n",
    "print(\"Random forest: Accuracy on test Data: {:.3f}\".format(acc_test_forest))"
   ]
  },
  {
   "cell_type": "markdown",
   "id": "BuL82iWVLi0x",
   "metadata": {
    "id": "BuL82iWVLi0x"
   },
   "source": [
    "**IV.2.2.2 Feature importance**"
   ]
  },
  {
   "cell_type": "code",
   "execution_count": 16,
   "id": "b7cdbdb0",
   "metadata": {
    "colab": {
     "base_uri": "https://localhost:8080/",
     "height": 442
    },
    "id": "b7cdbdb0",
    "outputId": "39c7d842-989f-4416-841c-000b1751d346"
   },
   "outputs": [
    {
     "data": {
      "image/png": "[encoded data removed]",
      "text/plain": [
       "<Figure size 648x504 with 1 Axes>"
      ]
     },
     "metadata": {
      "needs_background": "light"
     },
     "output_type": "display_data"
    }
   ],
   "source": [
    "plt.figure(figsize=(9,7))\n",
    "n = X_train.shape[1]\n",
    "plt.barh(range(n), forest.feature_importances_, align='center')\n",
    "plt.yticks(np.arange(n), X_train.columns)\n",
    "plt.xlabel(\"Feature importance\")\n",
    "plt.ylabel(\"Feature\")\n",
    "plt.show()"
   ]
  },
  {
   "cell_type": "markdown",
   "id": "t-TGN2XELrbi",
   "metadata": {
    "id": "t-TGN2XELrbi"
   },
   "source": [
    "\n",
    "**IV.2.2.3 Parameters tuning**"
   ]
  },
  {
   "cell_type": "code",
   "execution_count": 17,
   "id": "kwVQXW8c3aBU",
   "metadata": {
    "colab": {
     "base_uri": "https://localhost:8080/",
     "height": 282
    },
    "id": "kwVQXW8c3aBU",
    "outputId": "46992136-e5b5-4b67-deff-3d9ee9359994"
   },
   "outputs": [
    {
     "data": {
      "text/plain": [
       "[<matplotlib.lines.Line2D at 0x287836dba48>]"
      ]
     },
     "execution_count": 17,
     "metadata": {},
     "output_type": "execute_result"
    },
    {
     "data": {
      "image/png": "[encoded data removed]",
      "text/plain": [
       "<Figure size 432x288 with 1 Axes>"
      ]
     },
     "metadata": {
      "needs_background": "light"
     },
     "output_type": "display_data"
    }
   ],
   "source": [
    "acc_valid_array = []\n",
    "deapth_list=[]\n",
    "for deapth in range(1,31):\n",
    "  forest = RandomForestClassifier(max_depth = deapth)\n",
    "  forest.fit(X_train, y_train)\n",
    "  y_test_forest = forest.predict(X_test)\n",
    "  y_train_forest = forest.predict(X_train)\n",
    "  acc_valid_array.append(round(accuracy_score(y_train,y_train_forest),3))\n",
    "  deapth_list.append(deapth)\n",
    "plt.plot(deapth_list,acc_valid_array)"
   ]
  },
  {
   "cell_type": "code",
   "execution_count": 26,
   "id": "Ps_nZ8IZKSxO",
   "metadata": {
    "id": "Ps_nZ8IZKSxO"
   },
   "outputs": [
    {
     "name": "stderr",
     "output_type": "stream",
     "text": [
      "C:\\Users\\souhm\\anaconda3\\lib\\site-packages\\sklearn\\model_selection\\_search.py:296: UserWarning: The total space of parameters 60 is smaller than n_iter=100. Running 60 iterations. For exhaustive searches, use GridSearchCV.\n",
      "  UserWarning,\n"
     ]
    },
    {
     "name": "stdout",
     "output_type": "stream",
     "text": [
      "Fitting 3 folds for each of 60 candidates, totalling 180 fits\n",
      "Model with rank: 1\n",
      "Mean validation score: 0.964 (std: 0.003)\n",
      "Parameters: {'n_estimators': 500, 'max_features': 'sqrt', 'max_depth': 8, 'criterion': 'entropy'}\n",
      "\n"
     ]
    }
   ],
   "source": [
    "from scipy.stats import uniform, randint\n",
    "\n",
    "from sklearn.model_selection import RandomizedSearchCV\n",
    "\n",
    "forest = RandomForestClassifier()\n",
    "\n",
    "param_grid = { \n",
    "    'n_estimators': [200, 500],\n",
    "    'max_features': ['auto', 'sqrt', 'log2'],\n",
    "    'max_depth' : [4,5,6,7,8],\n",
    "    'criterion' :['gini', 'entropy']\n",
    "}\n",
    "\n",
    "\n",
    "search = RandomizedSearchCV(forest, param_distributions=param_grid, random_state=42, n_iter=100, cv=3, verbose=1, n_jobs=1, return_train_score=True)\n",
    "\n",
    "search.fit(X, y) # it takes a lot of time\n",
    "\n",
    "report_best_scores(search.cv_results_, 1)"
   ]
  },
  {
   "cell_type": "markdown",
   "id": "rZivZs-UL6wa",
   "metadata": {
    "id": "rZivZs-UL6wa"
   },
   "source": [
    "Best hyperparameters according to the randomized search : \n",
    "* n_estimators = 500\n",
    "* max_features = 'sqrt'\n",
    "* max_depth = 8\n",
    "* criterion='entropy'\n",
    "* **validation score=0.921**"
   ]
  },
  {
   "cell_type": "markdown",
   "id": "6NMjxaXz4qoW",
   "metadata": {
    "id": "6NMjxaXz4qoW"
   },
   "source": [
    " **Comparing Random forest vs Decision trees using ROC** "
   ]
  },
  {
   "cell_type": "code",
   "execution_count": 68,
   "id": "eJCzLnNodrfs",
   "metadata": {
    "id": "eJCzLnNodrfs"
   },
   "outputs": [
    {
     "data": {
      "image/png": "[encoded data removed]",
      "text/plain": [
       "<Figure size 432x288 with 1 Axes>"
      ]
     },
     "metadata": {
      "needs_background": "light"
     },
     "output_type": "display_data"
    }
   ],
   "source": [
    "tree = DecisionTreeClassifier(max_depth = 5)\n",
    "tree.fit(X_train, y_train)\n",
    "forest = RandomForestClassifier(max_depth=5)\n",
    "forest.fit(X_train, y_train)\n",
    "ax = plt.gca()\n",
    "rfc_disp = RocCurveDisplay.from_estimator(forest, X_test, y_test, ax=ax, alpha=0.8)\n",
    "tree_disp = RocCurveDisplay.from_estimator(tree, X_test, y_test, ax=ax, alpha=0.8)\n",
    "plt.show()\n"
   ]
  },
  {
   "cell_type": "markdown",
   "id": "r0vvnmOJ8uS0",
   "metadata": {
    "id": "r0vvnmOJ8uS0"
   },
   "source": [
    "###**IV.2.3  KNN**"
   ]
  },
  {
   "cell_type": "markdown",
   "id": "O2fbdkyNOlnV",
   "metadata": {
    "id": "O2fbdkyNOlnV"
   },
   "source": [
    "**IV.2.3.1 Model training**"
   ]
  },
  {
   "cell_type": "code",
   "execution_count": 18,
   "id": "-1YahmCc8clA",
   "metadata": {
    "colab": {
     "base_uri": "https://localhost:8080/"
    },
    "id": "-1YahmCc8clA",
    "outputId": "0752ee29-a909-4a66-9578-2149ac4dc851"
   },
   "outputs": [
    {
     "name": "stdout",
     "output_type": "stream",
     "text": [
      "              precision    recall  f1-score   support\n",
      "\n",
      "         0.0       0.91      0.98      0.94       600\n",
      "         1.0       0.98      0.91      0.94       600\n",
      "\n",
      "    accuracy                           0.94      1200\n",
      "   macro avg       0.95      0.94      0.94      1200\n",
      "weighted avg       0.95      0.94      0.94      1200\n",
      "\n"
     ]
    }
   ],
   "source": [
    "from sklearn.neighbors import KNeighborsClassifier\n",
    "\n",
    "#Create the KNN Classifier\n",
    "knn_model = KNeighborsClassifier(n_neighbors=3)\n",
    "\n",
    "#Train the model using the training sets\n",
    "knn_model.fit(X_train, y_train)\n",
    "\n",
    "#Predict the response for test dataset\n",
    "y_pred = knn_model.predict(X_test)\n",
    "\n",
    "from sklearn import metrics\n",
    "print(metrics.classification_report(y_test, y_pred))"
   ]
  },
  {
   "cell_type": "markdown",
   "id": "lE8w0YzUPZAP",
   "metadata": {
    "id": "lE8w0YzUPZAP"
   },
   "source": [
    "**IV.2.3.2 Parameters tuning**"
   ]
  },
  {
   "cell_type": "code",
   "execution_count": 19,
   "id": "fqlG5hsX879L",
   "metadata": {
    "id": "fqlG5hsX879L"
   },
   "outputs": [],
   "source": [
    "from sklearn.metrics import f1_score\n",
    "\n",
    "f1=[]\n",
    "for n in range(2,60):\n",
    "    knn_model = KNeighborsClassifier(n_neighbors=n)\n",
    "    knn_model.fit(X_train, y_train)\n",
    "    y_pred = knn_model.predict(X_test)\n",
    "    f1.append(f1_score(y_test,y_pred))"
   ]
  },
  {
   "cell_type": "code",
   "execution_count": 20,
   "id": "JAarSdEN9AKe",
   "metadata": {
    "colab": {
     "base_uri": "https://localhost:8080/",
     "height": 540
    },
    "id": "JAarSdEN9AKe",
    "outputId": "82493ea9-aac5-4b06-e1c8-926443898f29"
   },
   "outputs": [
    {
     "data": {
      "image/png": "[encoded data removed]",
      "text/plain": [
       "<Figure size 1116x612 with 1 Axes>"
      ]
     },
     "metadata": {
      "needs_background": "light"
     },
     "output_type": "display_data"
    }
   ],
   "source": [
    "f = plt.figure()\n",
    "plt.plot(range(2,60),f1)\n",
    "plt.title(\"Plotting the accuracy againts K-value\")\n",
    "plt.xlabel(\"K-value\")\n",
    "plt.ylabel(\"Accuracy\")\n",
    "f.set_size_inches(15.5, 8.5, forward=True)\n",
    "plt.show()"
   ]
  },
  {
   "cell_type": "markdown",
   "id": "nzmrQVvpP0oQ",
   "metadata": {
    "id": "nzmrQVvpP0oQ"
   },
   "source": [
    "We choose K=3"
   ]
  },
  {
   "cell_type": "markdown",
   "id": "fjIgGV6C9MtA",
   "metadata": {
    "id": "fjIgGV6C9MtA"
   },
   "source": [
    "### **IV.2.4 Naive Bayes**"
   ]
  },
  {
   "cell_type": "markdown",
   "id": "vIX_mkSVXXxm",
   "metadata": {
    "id": "vIX_mkSVXXxm"
   },
   "source": [
    "####  IV.2.4.1 Naive Bayes using Gaussian Distribution"
   ]
  },
  {
   "cell_type": "markdown",
   "id": "45mMxsuWrlPj",
   "metadata": {
    "id": "45mMxsuWrlPj"
   },
   "source": [
    "IV.2.4.1.1 Model training"
   ]
  },
  {
   "cell_type": "code",
   "execution_count": 21,
   "id": "2RJIYfwf9G5F",
   "metadata": {
    "colab": {
     "base_uri": "https://localhost:8080/"
    },
    "id": "2RJIYfwf9G5F",
    "outputId": "e38b8240-8a1f-4008-ff32-6faaa972fd2b"
   },
   "outputs": [
    {
     "name": "stdout",
     "output_type": "stream",
     "text": [
      "              precision    recall  f1-score   support\n",
      "\n",
      "         0.0       0.75      0.94      0.83       600\n",
      "         1.0       0.91      0.69      0.79       600\n",
      "\n",
      "    accuracy                           0.81      1200\n",
      "   macro avg       0.83      0.81      0.81      1200\n",
      "weighted avg       0.83      0.81      0.81      1200\n",
      "\n"
     ]
    }
   ],
   "source": [
    "#Import Gaussian Naive Bayes model\n",
    "from sklearn.naive_bayes import GaussianNB\n",
    "\n",
    "#Create a Gaussian Classifier\n",
    "gnb = GaussianNB()\n",
    "\n",
    "#Train the model using the training sets\n",
    "gnb.fit(X_train, y_train)\n",
    "\n",
    "#Predict the response for test dataset\n",
    "y_pred = gnb.predict(X_test)\n",
    "\n",
    "from sklearn import metrics\n",
    "print(metrics.classification_report(y_test, y_pred))"
   ]
  },
  {
   "cell_type": "markdown",
   "id": "03gIAobxr1Rl",
   "metadata": {
    "id": "03gIAobxr1Rl"
   },
   "source": [
    "IV.2.4.1.2 Parameters tuning"
   ]
  },
  {
   "cell_type": "code",
   "execution_count": 22,
   "id": "jjamBlx2mMQ5",
   "metadata": {
    "colab": {
     "base_uri": "https://localhost:8080/"
    },
    "id": "jjamBlx2mMQ5",
    "outputId": "b5952664-57f2-4e65-84c6-82bca85dda6c"
   },
   "outputs": [
    {
     "name": "stdout",
     "output_type": "stream",
     "text": [
      "Fitting 3 folds for each of 3 candidates, totalling 9 fits\n",
      "Model with rank: 1\n",
      "Mean validation score: 0.809 (std: 0.004)\n",
      "Parameters: {'var_smoothing': 1e-08, 'priors': None}\n",
      "\n",
      "Model with rank: 1\n",
      "Mean validation score: 0.809 (std: 0.004)\n",
      "Parameters: {'var_smoothing': 1e-08, 'priors': None}\n",
      "\n"
     ]
    },
    {
     "name": "stderr",
     "output_type": "stream",
     "text": [
      "C:\\Users\\souhm\\anaconda3\\lib\\site-packages\\sklearn\\model_selection\\_search.py:296: UserWarning: The total space of parameters 3 is smaller than n_iter=100. Running 3 iterations. For exhaustive searches, use GridSearchCV.\n",
      "  UserWarning,\n"
     ]
    }
   ],
   "source": [
    "from scipy.stats import uniform, randint\n",
    "from sklearn.model_selection import RandomizedSearchCV\n",
    "gnb = GaussianNB()\n",
    "param_cv = {\n",
    "    'priors': [None],\n",
    "    'var_smoothing': [0.00000001, 0.000000001, 0.00000001]\n",
    "}\n",
    "\n",
    "\n",
    "search = RandomizedSearchCV(gnb, param_distributions=param_cv, random_state=42, n_iter=100, cv=3, verbose=1, n_jobs=1, return_train_score=True)\n",
    "search.fit(X, y)\n",
    "report_best_scores(search.cv_results_, 1)"
   ]
  },
  {
   "cell_type": "markdown",
   "id": "fCbAhJP-sYY3",
   "metadata": {
    "id": "fCbAhJP-sYY3"
   },
   "source": [
    "var_smoothing = 1e-08"
   ]
  },
  {
   "cell_type": "markdown",
   "id": "V2F1IGqFXhBh",
   "metadata": {
    "id": "V2F1IGqFXhBh"
   },
   "source": [
    "#### IV.2.4.2 Naive Bayes using Multinomially distributed data"
   ]
  },
  {
   "cell_type": "code",
   "execution_count": 23,
   "id": "5wD8tmtw9UtI",
   "metadata": {
    "colab": {
     "base_uri": "https://localhost:8080/"
    },
    "id": "5wD8tmtw9UtI",
    "outputId": "33863443-e16d-4bf5-c390-79e37e369f91"
   },
   "outputs": [
    {
     "name": "stdout",
     "output_type": "stream",
     "text": [
      "              precision    recall  f1-score   support\n",
      "\n",
      "         0.0       0.74      0.61      0.67       600\n",
      "         1.0       0.67      0.78      0.72       600\n",
      "\n",
      "    accuracy                           0.70      1200\n",
      "   macro avg       0.70      0.70      0.70      1200\n",
      "weighted avg       0.70      0.70      0.70      1200\n",
      "\n"
     ]
    }
   ],
   "source": [
    "#Import Multinomial Naive Bayes model\n",
    "from sklearn.naive_bayes import MultinomialNB\n",
    "\n",
    "#Create a Multinomial Classifier\n",
    "mnb = MultinomialNB()\n",
    "\n",
    "#Train the model using the training sets\n",
    "mnb.fit(X_train, y_train)\n",
    "\n",
    "#Predict the response for test dataset\n",
    "y_pred = mnb.predict(X_test)\n",
    "\n",
    "from sklearn import metrics\n",
    "print(metrics.classification_report(y_test, y_pred))"
   ]
  },
  {
   "cell_type": "markdown",
   "id": "HfqjYBAh9tyW",
   "metadata": {
    "id": "HfqjYBAh9tyW"
   },
   "source": [
    "###  **IV.2.5 Support Vector Claasification SVC**"
   ]
  },
  {
   "cell_type": "markdown",
   "id": "s_jcksVEfids",
   "metadata": {
    "id": "s_jcksVEfids"
   },
   "source": [
    "### SVC using linear kernel"
   ]
  },
  {
   "cell_type": "markdown",
   "id": "n1Q1OGLtr-06",
   "metadata": {
    "id": "n1Q1OGLtr-06"
   },
   "source": [
    "IV.2.5.1 Model training"
   ]
  },
  {
   "cell_type": "code",
   "execution_count": 24,
   "id": "J4zrcDXT9jSC",
   "metadata": {
    "colab": {
     "base_uri": "https://localhost:8080/"
    },
    "id": "J4zrcDXT9jSC",
    "outputId": "2e6ffa7f-3378-4af4-ce96-59dc61789fc0"
   },
   "outputs": [
    {
     "name": "stdout",
     "output_type": "stream",
     "text": [
      "              precision    recall  f1-score   support\n",
      "\n",
      "         0.0       0.89      0.89      0.89       600\n",
      "         1.0       0.89      0.89      0.89       600\n",
      "\n",
      "    accuracy                           0.89      1200\n",
      "   macro avg       0.89      0.89      0.89      1200\n",
      "weighted avg       0.89      0.89      0.89      1200\n",
      "\n"
     ]
    }
   ],
   "source": [
    "#Fit du  Training set\n",
    "from sklearn.svm import SVC\n",
    "\n",
    "#Create a linear SVC Classifier\n",
    "classifier = SVC(kernel = 'linear', random_state = 0)\n",
    "\n",
    "#Train the model using the training sets\n",
    "classifier.fit(X_train, y_train)\n",
    "\n",
    "#Prediction sur le Test set\n",
    "y_pred = classifier.predict(X_test)\n",
    "\n",
    "from sklearn.metrics import classification_report\n",
    "print(classification_report(y_test, y_pred))"
   ]
  },
  {
   "cell_type": "markdown",
   "id": "0v5g47L2sCX4",
   "metadata": {
    "id": "0v5g47L2sCX4"
   },
   "source": [
    "IV.2.5.2 Parameters tuning"
   ]
  },
  {
   "cell_type": "code",
   "execution_count": null,
   "id": "nHlcy3P1nnph",
   "metadata": {
    "colab": {
     "base_uri": "https://localhost:8080/"
    },
    "id": "nHlcy3P1nnph",
    "outputId": "541b476b-6061-4a73-a973-9370a10b8ab6"
   },
   "outputs": [],
   "source": [
    "from scipy.stats import uniform, randint\n",
    "from sklearn.model_selection import RandomizedSearchCV\n",
    "classifier = SVC()\n",
    "param_cv = {'C': [0.1,1, 10], 'gamma': [0.1,0.01,0.001],'kernel': ['linear']}\n",
    "\n",
    "\n",
    "search = RandomizedSearchCV(classifier, param_distributions=param_cv, random_state=42, n_iter=100, cv=3, verbose=1, n_jobs=1, return_train_score=True)\n",
    "search.fit(X, y)\n",
    "report_best_scores(search.cv_results_, 1)"
   ]
  },
  {
   "cell_type": "markdown",
   "id": "L49JIijD8rbZ",
   "metadata": {
    "id": "L49JIijD8rbZ"
   },
   "source": [
    "### **IV.2.6 MLP**"
   ]
  },
  {
   "cell_type": "markdown",
   "id": "AjYUIU53cBpc",
   "metadata": {
    "id": "AjYUIU53cBpc"
   },
   "source": [
    "**IV.2.6.1 Model training**"
   ]
  },
  {
   "cell_type": "code",
   "execution_count": 25,
   "id": "FF9o3CbQ16o3",
   "metadata": {
    "colab": {
     "base_uri": "https://localhost:8080/"
    },
    "id": "FF9o3CbQ16o3",
    "outputId": "b7c66387-c017-4a2f-f801-6ce0e90d0a7c"
   },
   "outputs": [
    {
     "data": {
      "text/plain": [
       "MLPClassifier(hidden_layer_sizes=12, max_iter=1700, random_state=3,\n",
       "              solver='lbfgs')"
      ]
     },
     "execution_count": 25,
     "metadata": {},
     "output_type": "execute_result"
    }
   ],
   "source": [
    "from sklearn.neural_network import MLPClassifier\n",
    "model_mlp = MLPClassifier(solver='lbfgs', random_state= 3,max_iter= 1700, hidden_layer_sizes=(12),activation='relu',alpha=0.0001)\n",
    "# fit the model \n",
    "model_mlp.fit(X_train, y_train)"
   ]
  },
  {
   "cell_type": "code",
   "execution_count": 26,
   "id": "aL2o5Bkn2Fom",
   "metadata": {
    "id": "aL2o5Bkn2Fom"
   },
   "outputs": [],
   "source": [
    "#predicting the target value from the model for the samples\n",
    "y_test_mlp = model_mlp.predict(X_test)\n",
    "y_train_mlp = model_mlp.predict(X_train)"
   ]
  },
  {
   "cell_type": "code",
   "execution_count": 27,
   "id": "4zCOCEUD2MNt",
   "metadata": {
    "colab": {
     "base_uri": "https://localhost:8080/"
    },
    "id": "4zCOCEUD2MNt",
    "outputId": "5d426196-e2dc-4729-b8ae-5004ec47f9f3"
   },
   "outputs": [
    {
     "name": "stdout",
     "output_type": "stream",
     "text": [
      "Multilayer Perceptrons: Accuracy on training Data: 0.987\n",
      "Multilayer Perceptrons: Accuracy on test Data: 0.987\n"
     ]
    }
   ],
   "source": [
    "acc_train_mlp = accuracy_score(y_train,y_train_mlp)\n",
    "acc_test_mlp = accuracy_score(y_test,y_test_mlp)\n",
    "\n",
    "print(\"Multilayer Perceptrons: Accuracy on training Data:\", round(acc_train_mlp,3))\n",
    "print(\"Multilayer Perceptrons: Accuracy on test Data:\",  round(acc_train_mlp,3))"
   ]
  },
  {
   "cell_type": "markdown",
   "id": "wnKUrfLjcyGO",
   "metadata": {
    "id": "wnKUrfLjcyGO"
   },
   "source": [
    "**IV.2.6.2 Parameters tuning**"
   ]
  },
  {
   "cell_type": "code",
   "execution_count": null,
   "id": "JF4jhEpNMaWn",
   "metadata": {
    "id": "JF4jhEpNMaWn"
   },
   "outputs": [],
   "source": [
    "model_mlp = MLPClassifier()\n",
    "\n",
    "parameters = {\n",
    "    'solver': ['lbfgs'],\n",
    "    'max_iter': [1000,1100,1200,1300,1400,1500,1600,1700,1800,1900,2000 ],\n",
    "    'alpha': 10.0 ** -np.arange(1, 10),\n",
    "    'hidden_layer_sizes':np.arange(10, 15),\n",
    "    'random_state':[0,1,2,3,4,5,6,7,8,9] }\n",
    "\n",
    "search = RandomizedSearchCV(model_mlp, param_distributions=parameters, random_state=42, n_iter=100, cv=3, verbose=1, n_jobs=1, return_train_score=True)\n",
    "\n",
    "search.fit(X, y)\n",
    "\n",
    "report_best_scores(search.cv_results_, 1)\n"
   ]
  },
  {
   "cell_type": "markdown",
   "id": "Zp5dlM82d6N9",
   "metadata": {
    "id": "Zp5dlM82d6N9"
   },
   "source": [
    "solver='lbfgs'\n",
    "\n",
    "random_state = 3\n",
    "\n",
    "max_iter = 1700\n",
    "\n",
    "hidden_layer_sizes = 12\n",
    "\n",
    "alpha = 0.0001\n"
   ]
  }
 ],
 "metadata": {
  "colab": {
   "collapsed_sections": [],
   "provenance": []
  },
  "kernelspec": {
   "display_name": "Python 3 (ipykernel)",
   "language": "python",
   "name": "python3"
  },
  "language_info": {
   "codemirror_mode": {
    "name": "ipython",
    "version": 3
   },
   "file_extension": ".py",
   "mimetype": "text/x-python",
   "name": "python",
   "nbconvert_exporter": "python",
   "pygments_lexer": "ipython3",
   "version": "3.7.10"
  }
 },
 "nbformat": 4,
 "nbformat_minor": 5
}
